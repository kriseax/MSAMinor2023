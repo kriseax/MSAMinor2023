{
 "cells": [
  {
   "cell_type": "code",
   "execution_count": 1,
   "id": "a7378c23-0394-4941-96ea-9c816aae118e",
   "metadata": {},
   "outputs": [
    {
     "name": "stdout",
     "output_type": "stream",
     "text": [
      "0.000200000000000000\n"
     ]
    }
   ],
   "source": [
    "x1 = 2.0 / 10000\n",
    "print(f\"{x1:.18f}\") #print 18 decimal places"
   ]
  },
  {
   "cell_type": "code",
   "execution_count": 2,
   "id": "ada478b7-cd21-47d7-a8d9-0740d5f7cf3b",
   "metadata": {},
   "outputs": [
    {
     "name": "stdout",
     "output_type": "stream",
     "text": [
      "0.000199999999999978\n"
     ]
    }
   ],
   "source": [
    "x2 = 1 + (1 / 10000) - (1 - 1 / 10000)\n",
    "print(f\"{x2:.18f}\") #print 18 decimal places"
   ]
  },
  {
   "cell_type": "code",
   "execution_count": null,
   "id": "029f8d74-d188-44c5-9e11-f146bd3bcdd3",
   "metadata": {},
   "outputs": [],
   "source": []
  }
 ],
 "metadata": {
  "kernelspec": {
   "display_name": "Python 3 (ipykernel)",
   "language": "python",
   "name": "python3"
  },
  "language_info": {
   "codemirror_mode": {
    "name": "ipython",
    "version": 3
   },
   "file_extension": ".py",
   "mimetype": "text/x-python",
   "name": "python",
   "nbconvert_exporter": "python",
   "pygments_lexer": "ipython3",
   "version": "3.11.4"
  }
 },
 "nbformat": 4,
 "nbformat_minor": 5
}
